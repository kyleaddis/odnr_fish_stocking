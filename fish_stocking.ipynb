{
 "cells": [
  {
   "cell_type": "code",
   "execution_count": 2,
   "id": "ea458053-3587-4cfe-b789-d243adb4478b",
   "metadata": {},
   "outputs": [],
   "source": [
    "import pandas as pd\n",
    "import matplotlib.pyplot as plt\n",
    "import matplotlib.ticker as ticker\n",
    "import seaborn as sns\n",
    "import plotly.express as px\n",
    "import plotly.graph_objects as go\n",
    "\n",
    "pd.options.display.float_format = '{:.2f}'.format"
   ]
  },
  {
   "cell_type": "code",
   "execution_count": 3,
   "id": "cf18e9f3-ab18-4868-b589-5ae2a9afab05",
   "metadata": {},
   "outputs": [
    {
     "data": {
      "text/html": [
       "<div>\n",
       "<style scoped>\n",
       "    .dataframe tbody tr th:only-of-type {\n",
       "        vertical-align: middle;\n",
       "    }\n",
       "\n",
       "    .dataframe tbody tr th {\n",
       "        vertical-align: top;\n",
       "    }\n",
       "\n",
       "    .dataframe thead th {\n",
       "        text-align: right;\n",
       "    }\n",
       "</style>\n",
       "<table border=\"1\" class=\"dataframe\">\n",
       "  <thead>\n",
       "    <tr style=\"text-align: right;\">\n",
       "      <th></th>\n",
       "      <th>location_name</th>\n",
       "      <th>longitude</th>\n",
       "      <th>latitude</th>\n",
       "      <th>acres</th>\n",
       "      <th>year</th>\n",
       "      <th>species_name</th>\n",
       "      <th>stagename</th>\n",
       "      <th>numberstocked</th>\n",
       "    </tr>\n",
       "  </thead>\n",
       "  <tbody>\n",
       "    <tr>\n",
       "      <th>0</th>\n",
       "      <td>LAKE ALMA</td>\n",
       "      <td>-82.52</td>\n",
       "      <td>39.14</td>\n",
       "      <td>68.00</td>\n",
       "      <td>1983</td>\n",
       "      <td>Channel Catfish</td>\n",
       "      <td>Fingerlings</td>\n",
       "      <td>7300</td>\n",
       "    </tr>\n",
       "    <tr>\n",
       "      <th>1</th>\n",
       "      <td>LAKE ALMA</td>\n",
       "      <td>-82.52</td>\n",
       "      <td>39.14</td>\n",
       "      <td>68.00</td>\n",
       "      <td>1983</td>\n",
       "      <td>Channel Catfish</td>\n",
       "      <td>Fingerlings</td>\n",
       "      <td>7300</td>\n",
       "    </tr>\n",
       "    <tr>\n",
       "      <th>2</th>\n",
       "      <td>LAKE ALMA</td>\n",
       "      <td>-82.52</td>\n",
       "      <td>39.14</td>\n",
       "      <td>68.00</td>\n",
       "      <td>1987</td>\n",
       "      <td>Channel Catfish</td>\n",
       "      <td>Fingerlings</td>\n",
       "      <td>7400</td>\n",
       "    </tr>\n",
       "    <tr>\n",
       "      <th>3</th>\n",
       "      <td>LAKE ALMA</td>\n",
       "      <td>-82.52</td>\n",
       "      <td>39.14</td>\n",
       "      <td>68.00</td>\n",
       "      <td>1988</td>\n",
       "      <td>Channel Catfish</td>\n",
       "      <td>Yearling</td>\n",
       "      <td>1826</td>\n",
       "    </tr>\n",
       "    <tr>\n",
       "      <th>4</th>\n",
       "      <td>LAKE ALMA</td>\n",
       "      <td>-82.52</td>\n",
       "      <td>39.14</td>\n",
       "      <td>68.00</td>\n",
       "      <td>1988</td>\n",
       "      <td>Channel Catfish</td>\n",
       "      <td>Yearling</td>\n",
       "      <td>1265</td>\n",
       "    </tr>\n",
       "  </tbody>\n",
       "</table>\n",
       "</div>"
      ],
      "text/plain": [
       "  location_name  longitude  latitude  acres  year     species_name  \\\n",
       "0     LAKE ALMA     -82.52     39.14  68.00  1983  Channel Catfish   \n",
       "1     LAKE ALMA     -82.52     39.14  68.00  1983  Channel Catfish   \n",
       "2     LAKE ALMA     -82.52     39.14  68.00  1987  Channel Catfish   \n",
       "3     LAKE ALMA     -82.52     39.14  68.00  1988  Channel Catfish   \n",
       "4     LAKE ALMA     -82.52     39.14  68.00  1988  Channel Catfish   \n",
       "\n",
       "     stagename  numberstocked  \n",
       "0  Fingerlings           7300  \n",
       "1  Fingerlings           7300  \n",
       "2  Fingerlings           7400  \n",
       "3     Yearling           1826  \n",
       "4     Yearling           1265  "
      ]
     },
     "execution_count": 3,
     "metadata": {},
     "output_type": "execute_result"
    }
   ],
   "source": [
    "fish = pd.read_csv(\"ODNR_fish_stocking.csv\")\n",
    "fish.head()"
   ]
  },
  {
   "cell_type": "code",
   "execution_count": 4,
   "id": "3feb14eb",
   "metadata": {},
   "outputs": [
    {
     "data": {
      "text/html": [
       "<div>\n",
       "<style scoped>\n",
       "    .dataframe tbody tr th:only-of-type {\n",
       "        vertical-align: middle;\n",
       "    }\n",
       "\n",
       "    .dataframe tbody tr th {\n",
       "        vertical-align: top;\n",
       "    }\n",
       "\n",
       "    .dataframe thead th {\n",
       "        text-align: right;\n",
       "    }\n",
       "</style>\n",
       "<table border=\"1\" class=\"dataframe\">\n",
       "  <thead>\n",
       "    <tr style=\"text-align: right;\">\n",
       "      <th></th>\n",
       "      <th>longitude</th>\n",
       "      <th>latitude</th>\n",
       "      <th>acres</th>\n",
       "      <th>year</th>\n",
       "      <th>numberstocked</th>\n",
       "    </tr>\n",
       "  </thead>\n",
       "  <tbody>\n",
       "    <tr>\n",
       "      <th>count</th>\n",
       "      <td>14137.00</td>\n",
       "      <td>14137.00</td>\n",
       "      <td>14939.00</td>\n",
       "      <td>18560.00</td>\n",
       "      <td>18560.00</td>\n",
       "    </tr>\n",
       "    <tr>\n",
       "      <th>mean</th>\n",
       "      <td>-82.70</td>\n",
       "      <td>40.38</td>\n",
       "      <td>1085.27</td>\n",
       "      <td>1999.82</td>\n",
       "      <td>92463.23</td>\n",
       "    </tr>\n",
       "    <tr>\n",
       "      <th>std</th>\n",
       "      <td>1.13</td>\n",
       "      <td>0.77</td>\n",
       "      <td>2232.15</td>\n",
       "      <td>16.09</td>\n",
       "      <td>416741.52</td>\n",
       "    </tr>\n",
       "    <tr>\n",
       "      <th>min</th>\n",
       "      <td>-84.81</td>\n",
       "      <td>38.56</td>\n",
       "      <td>0.40</td>\n",
       "      <td>1970.00</td>\n",
       "      <td>3.00</td>\n",
       "    </tr>\n",
       "    <tr>\n",
       "      <th>25%</th>\n",
       "      <td>-83.66</td>\n",
       "      <td>39.82</td>\n",
       "      <td>39.00</td>\n",
       "      <td>1986.00</td>\n",
       "      <td>1066.00</td>\n",
       "    </tr>\n",
       "    <tr>\n",
       "      <th>50%</th>\n",
       "      <td>-82.68</td>\n",
       "      <td>40.47</td>\n",
       "      <td>157.00</td>\n",
       "      <td>2002.00</td>\n",
       "      <td>4447.00</td>\n",
       "    </tr>\n",
       "    <tr>\n",
       "      <th>75%</th>\n",
       "      <td>-81.56</td>\n",
       "      <td>41.03</td>\n",
       "      <td>1279.00</td>\n",
       "      <td>2014.00</td>\n",
       "      <td>25200.00</td>\n",
       "    </tr>\n",
       "    <tr>\n",
       "      <th>max</th>\n",
       "      <td>-80.50</td>\n",
       "      <td>41.75</td>\n",
       "      <td>16349.00</td>\n",
       "      <td>2025.00</td>\n",
       "      <td>10350000.00</td>\n",
       "    </tr>\n",
       "  </tbody>\n",
       "</table>\n",
       "</div>"
      ],
      "text/plain": [
       "       longitude  latitude    acres     year  numberstocked\n",
       "count   14137.00  14137.00 14939.00 18560.00       18560.00\n",
       "mean      -82.70     40.38  1085.27  1999.82       92463.23\n",
       "std         1.13      0.77  2232.15    16.09      416741.52\n",
       "min       -84.81     38.56     0.40  1970.00           3.00\n",
       "25%       -83.66     39.82    39.00  1986.00        1066.00\n",
       "50%       -82.68     40.47   157.00  2002.00        4447.00\n",
       "75%       -81.56     41.03  1279.00  2014.00       25200.00\n",
       "max       -80.50     41.75 16349.00  2025.00    10350000.00"
      ]
     },
     "execution_count": 4,
     "metadata": {},
     "output_type": "execute_result"
    }
   ],
   "source": [
    "fish.describe()"
   ]
  },
  {
   "cell_type": "code",
   "execution_count": 5,
   "id": "fcbb19f8",
   "metadata": {},
   "outputs": [
    {
     "name": "stdout",
     "output_type": "stream",
     "text": [
      "<class 'pandas.core.frame.DataFrame'>\n",
      "RangeIndex: 18560 entries, 0 to 18559\n",
      "Data columns (total 8 columns):\n",
      " #   Column         Non-Null Count  Dtype  \n",
      "---  ------         --------------  -----  \n",
      " 0   location_name  18560 non-null  object \n",
      " 1   longitude      14137 non-null  float64\n",
      " 2   latitude       14137 non-null  float64\n",
      " 3   acres          14939 non-null  float64\n",
      " 4   year           18560 non-null  int64  \n",
      " 5   species_name   18560 non-null  object \n",
      " 6   stagename      18560 non-null  object \n",
      " 7   numberstocked  18560 non-null  int64  \n",
      "dtypes: float64(3), int64(2), object(3)\n",
      "memory usage: 1.1+ MB\n"
     ]
    }
   ],
   "source": [
    "fish.info()"
   ]
  },
  {
   "cell_type": "code",
   "execution_count": 6,
   "id": "900a1fea",
   "metadata": {},
   "outputs": [
    {
     "data": {
      "text/plain": [
       "location_name     494\n",
       "longitude         316\n",
       "latitude          315\n",
       "acres             218\n",
       "year               56\n",
       "species_name       36\n",
       "stagename           6\n",
       "numberstocked    9780\n",
       "dtype: int64"
      ]
     },
     "execution_count": 6,
     "metadata": {},
     "output_type": "execute_result"
    }
   ],
   "source": [
    "fish.nunique()"
   ]
  },
  {
   "cell_type": "markdown",
   "id": "efafa3cc",
   "metadata": {},
   "source": [
    "The dataset consists of yearly fish stocking by location with details about the fish stocked. The first year of data is from 1970 and ever year has some data.  It looks like some locations are missing data about their size and lat/lon.\n",
    "Let's see if they have anything in common."
   ]
  },
  {
   "cell_type": "code",
   "execution_count": 7,
   "id": "7e4ee181",
   "metadata": {},
   "outputs": [
    {
     "data": {
      "text/plain": [
       "location_name\n",
       "CHAGRIN RIVER (LAKE ERIE)         374\n",
       "ROCKY RIVER (LAKE ERIE)           313\n",
       "GRAND RIVER (LAKE ERIE)           312\n",
       "CONNEAUT CREEK (LAKE ERIE)        284\n",
       "MAD RIVER (GREAT MIAMI R)         239\n",
       "                                 ... \n",
       "OTTAWA NATIONAL  WILDLIFE AREA      1\n",
       "MOSQUITO CREEK WILDLIFE AREA        1\n",
       "PYMATUNING CREEK (MAHONING R)       1\n",
       "REID PARK PONDS                     1\n",
       "BEREA QUARRY                        1\n",
       "Name: count, Length: 171, dtype: int64"
      ]
     },
     "execution_count": 7,
     "metadata": {},
     "output_type": "execute_result"
    }
   ],
   "source": [
    "fish[fish['longitude'].isna()][\"location_name\"].value_counts()"
   ]
  },
  {
   "cell_type": "markdown",
   "id": "4c33d459",
   "metadata": {},
   "source": [
    "It looks like most of the locations missing details are creeks, rivers, or areas with multiple bodies of water. This explains why they are missing lat/long and area.\n",
    "Next, let's look at number of fish stocked by lake to see if how different locations compare"
   ]
  },
  {
   "cell_type": "code",
   "execution_count": 8,
   "id": "5246bf4f",
   "metadata": {},
   "outputs": [
    {
     "name": "stdout",
     "output_type": "stream",
     "text": [
      "            location_name  longitude  latitude  total_stocked  total_percent\n",
      "186         MOSQUITO LAKE     -80.76     41.30      512230467          31.17\n",
      "34            BERLIN LAKE     -81.00     41.05      126576842           7.70\n",
      "101  GRAND LAKE ST. MARYS     -84.57     40.53      105489392           6.42\n",
      "260           SENECA LAKE     -81.44     39.92       93427244           5.69\n",
      "118           INDIAN LAKE     -83.88     40.47       78731053           4.79\n"
     ]
    },
    {
     "data": {
      "application/vnd.plotly.v1+json": {
       "config": {
        "plotlyServerURL": "https://plot.ly"
       },
       "data": [
        {
         "geo": "geo",
         "hovertemplate": "<b>%{hovertext}</b><br><br>total_stocked=%{marker.size}<br>latitude=%{lat}<br>longitude=%{lon}<extra></extra>",
         "hovertext": [
          "MOSQUITO LAKE",
          "BERLIN LAKE",
          "GRAND LAKE ST. MARYS",
          "SENECA LAKE",
          "INDIAN LAKE",
          "BUCKEYE LAKE",
          "ALUM CREEK LAKE",
          "EAST FORK LAKE",
          "CAESAR CREEK LAKE",
          "SALT FORK LAKE",
          "HOOVER RESERVOIR",
          "DILLON LAKE",
          "DALE WALBORN RESERVOIR",
          "ROCKY FORK LAKE",
          "C.J. BROWN RESERVOIR",
          "PIEDMONT LAKE",
          "PYMATUNING LAKE",
          "LAKE MILTON",
          "TAPPAN LAKE",
          "BRESLER RESERVOIR",
          "CLENDENING LAKE",
          "DEER CREEK LAKE",
          "ATWOOD LAKE",
          "FINDLAY RESERVOIR #2",
          "PAINT CREEK LAKE",
          "CHARLES MILL RESERVOIR",
          "LAKE LORAMIE",
          "WEST BRANCH RESERVOIR",
          "PLEASANT HILL LAKE",
          "LADUE RESERVOIR",
          "O SHAUGHNESSY RESERVOIR",
          "WILLS CREEK LAKE",
          "EASTWOOD LAKE",
          "LEESVILLE LAKE",
          "COWAN LAKE",
          "DEER CREEK RESERVOIR",
          "DELAWARE LAKE",
          "WILLARD RESERVOIR",
          "ACTON LAKE",
          "BURR OAK LAKE",
          "NIMISILA RESERVOIR",
          "NEW LONDON RESERVOIR",
          "FERGUSON RESERVOIR",
          "LAKE RUPERT",
          "GRIGGS RESERVOIR",
          "FINDLAY RESERVOIR #1",
          "LAKE LOGAN",
          "METZGER RESERVOIR",
          "WOLF RUN LAKE",
          "LAKE MEDINA",
          "BEACH CITY RESERVOIR",
          "LAKE WHITE",
          "JACKSON CITY RESERVOIR",
          "KISER LAKE",
          "DEFIANCE RESERVOIR",
          "KILLDEER RESERVOIR",
          "TURKEYFOOT LAKE",
          "BEAVER CREEK RESERVOIR",
          "PAULDING RESERVOIR",
          "ANTRIM LAKE",
          "VETS MEMORIAL RESERVOIR",
          "DOW LAKE",
          "WELLINGTON RESERVOIR SOUTH",
          "LAKE LECOMTE",
          "LAKE SNOWDEN",
          "BELMONT LAKE",
          "LOST CREEK RESERVOIR",
          "MARYSVILLE UPGROUND RESERVOIR",
          "WELLINGTON UPGROUND RESERVOIR",
          "DELPHOS-GILLMOR RESERVOIR",
          "LIMA LAKE",
          "WAUSEON RESERVOIR #2",
          "RILEY RESERVOIR",
          "KNOX LAKE",
          "OUTHWAITE RESERVOIR",
          "GUILFORD LAKE",
          "LAKE HOPE",
          "VAN WERT RESERVOIR #1",
          "BELLEVUE RESERVOIR #5",
          "SHELBY RESERVOIR #3",
          "ARCHBOLD RESERVOIR #2",
          "NORWALK RESERVOIR #3",
          "CHIPPEWA LAKE",
          "VESUVIUS LAKE",
          "RACCOON CREEK RESERVOIR",
          "EAST RESERVOIR",
          "VAN WERT RESERVOIR #2 OLD (pre 2007)",
          "UPPER SANDUSKY RESERVOIR #2",
          "OTTAWA RESERVOIR",
          "AMICK RESERVOIR",
          "VETO LAKE",
          "NORTH RESERVOIR",
          "WHITE STAR QUARRY",
          "WASHINGTON COURT HOUSE UPGROUND",
          "FORKED RUN LAKE",
          "POWERS RESERVOIR",
          "NETTLE LAKE",
          "RESTHAVEN POND #08",
          "PUNDERSON LAKE",
          "LONG LAKE",
          "RUSH CREEK LAKE",
          "JACKSON LAKE",
          "GRANT LAKE",
          "ARCHBOLD RESERVOIR #1",
          "WAUSEON RESERVOIR #1",
          "MONROE LAKE",
          "TURKEY CREEK LAKE",
          "TYCOON LAKE",
          "NORTH BALTIMORE RESERVOIR",
          "ROSS LAKE",
          "RUSH RUN LAKE",
          "KOKOSING LAKE",
          "ROSE LAKE",
          "OBERLIN RESERVOIR",
          "HARGUS LAKE",
          "SPRINGFIELD LAKE",
          "MCCOMB RESERVOIR #2",
          "SPRING VALLEY LAKE",
          "HARRISON LAKE",
          "DELTA RESERVOIR #2",
          "FRIENDSHIP PARK LAKE",
          "STONELICK LAKE",
          "WEST RESERVOIR",
          "CLARK LAKE",
          "FOX LAKE",
          "SPENCER LAKE",
          "OLANDER LAKE",
          "NORWALK RESERVOIR #1",
          "LAKE ALMA",
          "SHELBY RESERVOIR #2",
          "BARNESVILLE RESERVOIR #1",
          "SWANTON WATERWORKS RESERVOIR",
          "MADISON LAKE",
          "ADAMS LAKE",
          "HINCKLEY LAKE",
          "RESTHAVEN POND #10",
          "HIGHLANDTOWN LAKE",
          "CROOKSVILLE RESERVOIR #1",
          "BARNESVILLE RESERVOIR #3",
          "SCHOONOVER LAKE",
          "RESTHAVEN POND #07",
          "NORWALK RESERVOIR #2",
          "SIPPO LAKE",
          "JEFFERSON LAKE",
          "NORTH BALTIMORE RESERVOIR #2",
          "SILVER CREEK LAKE",
          "CLEARFORK RESERVOIR",
          "CLOUSE LAKE",
          "MCKARNS LAKE",
          "BLUE ROCK LAKE",
          "OXBOW LAKE",
          "TIMBRE RIDGE LAKE",
          "OHIO CANAL LOCK #4",
          "SILVEROCK PARK LAKE",
          "MILL CREEK LAKE",
          "MOGADORE RESERVOIR",
          "NEW LEXINGTON RESERVOIR 1A",
          "BUCYRUS RESERVOIR #1",
          "FINDLEY LAKE",
          "PEARSON METROPARK PONDS",
          "WINGFOOT LAKE",
          "PIKE LAKE",
          "ZOAR LAKE",
          "AMANN RESERVOIR",
          "EAST BRANCH RESERVOIR",
          "MT. GILEAD LAKE",
          "CALDWELL LAKE",
          "ZEPERNICK LAKE",
          "LEIPSIC RESERVOIR (OLD)",
          "UPPER SANDUSKY RESERVOIR",
          "ALDRICH POND",
          "GIERTZ LAKE",
          "DELTA RESERVOIR #1",
          "GREENFIELD LAKE",
          "LAMBERJACK LAKE",
          "MAUMEE BAY STATE PARK POND",
          "SHREVE LAKE",
          "BUCYRUS RESERVOIR #2",
          "RESTHAVEN POND #02",
          "RESTHAVEN POND #11",
          "RESTHAVEN POND #01",
          "BARNESVILLE RESERVOIR #4",
          "PINE LAKE",
          "PETROS LAKE",
          "LAKE PARK",
          "VAN BUREN RESERVOIR",
          "OAKTHORPE LAKE",
          "AQUILLA LAKE",
          "CENCI PARK LAKE",
          "MONROEVILLE RESERVOIR",
          "FOUNDATION PARK",
          "RESTHAVEN POND #06",
          "MUNRO BASIN",
          "NEW LYME LAKE",
          "TAWAWA LAKE",
          "EVERGREEN LAKE",
          "STEWART HOLLOW LAKE",
          "WATERLOO LAKE",
          "FULTON POND",
          "DESHLER RESERVOIR #1",
          "ROWLAND NATURE PRESERVE LAKE",
          "ROCKMILL LAKE",
          "CROOKSVILLE RESERVOIR SOUTH",
          "RIO GRANDE RESERVOIR",
          "ST. CLAIRSVILLE RESERVOIR",
          "MCCOMB RESERVOIR #1",
          "NEW LEXINGTON RESERVOIR 1B",
          "ASHLEY UPGROUND RESERVOIR",
          "SHELBY RESERVOIR #1",
          "METAMORA RESERVOIR",
          "ST. JOSEPH LAKE",
          "SUNBURY UPGROUND RESERVOIR #1",
          "MUSKINGUM RIVER PHILO POOL",
          "TAR HOLLOW LAKE",
          "LAKE US",
          "ATTICA RESERVOIR",
          "MUSKINGUM RIVER MCCONNELSVILLE POOL",
          "ROOSEVELT LAKE",
          "SUNBURY UPGROUND RESERVOIR #2",
          "LAKE ANN",
          "BELLEVUE RESERVOIR #4",
          "MUSKINGUM RIVER LOWELL POOL",
          "MUSKINGUM RIVER ROKEBY POOL",
          "DAUGHERTY LAKE",
          "QUAIL HOLLOW POND",
          "DECKER LAKE",
          "CRYSTAL LAKE",
          "TWIN CHURCHES LAKE",
          "LAMPSON RESERVOIR",
          "FLAGDALE LAKE",
          "WALLACE RESERVOIR",
          "MUSKINGUM RIVER ZANESVILLE POOL",
          "MUSKINGUM RIVER DEVOLA POOL",
          "MUSKINGUM RIVER BEVERLY POOL",
          "MUSKINGUM RIVER STOCKPORT POOL",
          "BARNESVILLE RESERVOIR #2",
          "ENGLEWOOD NORTH PARK POND",
          "MIRROR LAKE",
          "DESHLER RESERVOIR #2",
          "FRANKLIN PARK POND",
          "LINDEN PARK POND",
          "WALTER C. BEST NATURE PRESERVE",
          "WESTGATE PARK POND",
          "WINCHESTER RESERVOIR",
          "HANGING ROCK LAKE",
          "ROCKY FORK SOUTH BEACH POND",
          "MUSKINGUM RIVER MARIETTA POOL",
          "SYCAMORE STATE PARK POND (LARGE)",
          "MUSKINGUM RIVER LUKE CHUTE POOL",
          "BLUE HERON PRESERVE POND",
          "STADIUM PARK POND",
          "MONUMENT PARK POND",
          "CAMDEN LAKE",
          "COWAN LAKE YOUTH POND",
          "TECUMSEH LAKE",
          "TUSCORA PARK POND",
          "RUSH RUN WA POND",
          "PERRY COUNTY GUN CLUB LAKE",
          "LAKE LA SU AN",
          "Jesse Owens SP POND MB32",
          "WHETSTONE PARK POND",
          "Jesse Owens SP POND MB33",
          "LAMPING HOMESTEAD LAKE",
          "BEAR LAKE",
          "Jesse Owens WA POND MB165",
          "DARKE WA POND W4F3",
          "ISMOND POND",
          "TAYLORSVILLE POPLAR CREEK POND",
          "GOODALE PARK POND",
          "SCHILLER PARK POND",
          "HARRY WOLFE PARK",
          "CAESAR CREEK YOUTH POND",
          "NORTH SIPPO RESERVOIR",
          "CAMBRIDGE CITY RESERVOIR",
          "PENROD LAKE",
          "JACKSON PARK LAKE",
          "BUCKEYE PARK LAKE",
          "COLFAX LAKE",
          "NEW WASHINGTON RESERVOIR #2",
          "HILLSBORO RESERVOIR",
          "HOME OF THE BRAVE PARK POND",
          "DEER RUN-SYMMES TOWNSHIP POND",
          "KRUMM PARK POND",
          "GREENWICH RESERVOIR",
          "MOUNTS PARK POND",
          "KOUNTRY RESORT CAMPGROUND POND",
          "MOUNTS PARK POND (SMALL)",
          "Jesse Owens SP POND MB42",
          "Appalachian Hills WA POND MB141",
          "SYCAMORE STATE PARK POND (SMALL)",
          "T MARSH POND",
          "COLLEGE CORNER POND - BIG BACK",
          "LAKE TEAL",
          "HANCOCK COUNTY WETLANDS #3",
          "KIPTON RESERVOIR",
          "Jesse Owens WA POND MB101",
          "Jesse Owens WA POND MB100",
          "Jesse Owens WA POND MB90",
          "Jesse Owens WA POND MB91-92",
          "Jesse Owens WA POND MB93-94",
          "Jesse Owens WA POND MB184",
          "Appalachian Hills WA POND NB104",
          "Appalachian Hills WA POND NB105",
          "Appalachian Hills WA POND NB64",
          "Appalachian Hills WA POND NB59",
          "Appalachian Hills WA POND NB43",
          "Jesse Owens WA POND MB72",
          "Appalachian Hills WA POND MUM224",
          "Appalachian Hills WA POND MM52",
          "Jesse Owens WA POND MB71",
          "Jesse Owens WA POND MB40",
          "Appalachian Hills WA POND MB46",
          "Jesse Owens WA POND MB115",
          "Jesse Owens SP POND MM34",
          "Appalachian Hills WA POND MB135",
          "Appalachian Hills WA POND MB133",
          "MILLER'S POND",
          "HANCOCK COUNTY WETLANDS #2",
          "COLLEGE CORNER POND - SMALL FRONT",
          "CHAFFEE/DODGEVILLE POND",
          "SR 83 POND",
          "SHOP POND",
          "FUNK POND"
         ],
         "lat": [
          41.300057,
          41.046758,
          40.53479,
          39.924472,
          40.467488,
          39.92786,
          40.184249,
          39.022284,
          39.484992,
          40.104771,
          40.108163,
          39.990866,
          40.973158,
          39.185034,
          39.950608,
          40.190368,
          41.516953,
          41.127257,
          40.359266,
          40.73066,
          40.268967,
          39.605639,
          40.526523,
          41.010014,
          39.250837,
          40.740854,
          40.363606,
          41.155371,
          40.622857,
          41.406954,
          40.153344,
          40.157271,
          39.782494,
          40.468665,
          39.388295,
          40.968658,
          40.358344,
          41.057248,
          39.557816,
          39.541769,
          40.924456,
          41.066138,
          40.732342,
          39.176466,
          40.015646,
          41.008315,
          39.534263,
          40.741409,
          39.790673,
          41.139254,
          40.645061,
          39.101454,
          39.056465,
          40.197181,
          41.2679,
          40.705486,
          40.969256,
          41.241359,
          41.124255,
          40.077248,
          41.13332,
          39.335373,
          41.142851,
          41.115821,
          39.250071,
          40.033671,
          40.744618,
          40.263621,
          41.152851,
          40.877874,
          40.757473,
          41.511667,
          40.827245,
          40.496456,
          40.835628,
          40.795059,
          39.320068,
          40.849321,
          41.211745,
          40.909478,
          41.518929,
          41.234447,
          41.07432,
          38.606473,
          41.28754,
          41.001156,
          40.844017,
          40.817989,
          41.014453,
          40.703148,
          39.345074,
          41.001756,
          41.371424,
          39.55187,
          39.091778,
          40.721617,
          41.679601,
          41.394242,
          41.460767,
          41.015056,
          39.789692,
          38.89177,
          38.996626,
          41.520148,
          41.511738,
          39.818172,
          38.733354,
          38.921774,
          41.17234,
          39.334753,
          39.593845,
          40.506455,
          39.42491,
          41.275049,
          39.626751,
          41.025105,
          41.10612,
          39.563881,
          41.639322,
          41.59118,
          40.285869,
          39.216022,
          40.980356,
          39.948114,
          39.300071,
          41.106953,
          41.691181,
          41.238347,
          39.144467,
          40.86895,
          39.964524,
          41.56889,
          39.866132,
          38.813935,
          41.226454,
          41.394242,
          40.637862,
          39.701468,
          39.908518,
          40.750691,
          41.394242,
          41.233947,
          40.803417,
          40.460666,
          41.172587,
          40.993561,
          40.698152,
          39.765065,
          41.556948,
          39.81757,
          41.346497,
          38.654313,
          40.877966,
          41.390643,
          41.098026,
          41.057857,
          39.73372,
          40.827245,
          41.137552,
          41.638804,
          41.015595,
          39.159445,
          40.613984,
          40.712548,
          41.503654,
          40.54925,
          39.229887,
          40.788659,
          41.106385,
          40.820332,
          41.447729,
          41.030365,
          41.588444,
          39.770858,
          41.158345,
          41.680752,
          40.684258,
          40.812734,
          41.394242,
          41.394242,
          41.394242,
          39.971007,
          40.899662,
          40.754906,
          40.911958,
          41.133908,
          39.809329,
          41.546152,
          39.707059,
          41.23301,
          40.386537,
          41.394242,
          40.153369,
          41.581948,
          40.287657,
          41.534994,
          39.217758,
          39.101562,
          41.596842,
          41.200786,
          41.387973,
          39.738956,
          39.761332,
          38.883974,
          40.065371,
          41.106898,
          39.746578,
          40.407358,
          40.868949,
          41.711683,
          39.770724,
          40.247931,
          39.869448,
          39.384737,
          41.691642,
          41.052844,
          39.644085,
          38.725919,
          40.247772,
          41.690369,
          41.260644,
          39.529444,
          39.732608,
          41.144922,
          41.673228,
          40.188058,
          39.740853,
          39.699605,
          41.753152,
          39.692205,
          41.36445,
          39.941699,
          39.469687,
          39.554822,
          39.547545,
          39.998657,
          39.907061,
          40.028288,
          41.200786,
          39.965013,
          40.018353,
          41.556641,
          39.945952,
          38.947329,
          38.55857,
          39.182035,
          39.409448,
          39.798057,
          39.536709,
          41.466142,
          40.820365,
          40.808326,
          41.242548,
          39.381432,
          39.600495,
          40.500647,
          39.585301,
          39.763753,
          41.680192,
          39.727712,
          40.045043,
          39.728058,
          39.630274,
          38.781172,
          39.727805,
          40.120952,
          40.657262,
          39.863104,
          39.975382,
          39.941232,
          40.15253,
          39.509373,
          40.80404,
          40.004259,
          39.345384,
          39.959498,
          39.41955,
          39.73591,
          40.951213,
          39.246122,
          39.277338,
          39.274989,
          39.988564,
          41.02645,
          39.358669,
          39.042674,
          39.361116,
          39.735065,
          39.720707,
          39.798502,
          41.44739,
          39.574137,
          41.678009,
          41.11979,
          41.249602,
          39.703993,
          39.700371,
          39.712023,
          39.710036,
          39.718805,
          39.719641,
          39.803932,
          39.803213,
          39.773707,
          39.773463,
          39.772487,
          39.727253,
          39.794748,
          39.733673,
          39.733555,
          39.732146,
          39.751977,
          39.744667,
          39.729336,
          39.72658,
          39.710501,
          40.699965,
          41.121442,
          39.573878,
          41.450771,
          40.666706,
          40.671008,
          40.749896
         ],
         "legendgroup": "",
         "lon": [
          -80.758136,
          -81.002592,
          -84.574374,
          -81.438174,
          -83.875493,
          -82.488212,
          -82.963793,
          -84.151688,
          -84.061277,
          -81.557065,
          -82.881928,
          -82.082083,
          -81.177601,
          -83.439915,
          -83.747149,
          -81.213162,
          -80.501181,
          -80.977591,
          -81.225939,
          -84.229082,
          -81.276497,
          -83.244914,
          -81.285772,
          -83.571596,
          -83.35408,
          -82.365997,
          -84.362362,
          -81.079412,
          -82.324884,
          -81.18649,
          -83.125744,
          -81.850408,
          -84.145686,
          -81.194548,
          -83.92493,
          -81.116487,
          -83.068799,
          -82.665177,
          -84.73446,
          -82.057644,
          -81.515396,
          -82.419436,
          -84.044266,
          -82.520714,
          -83.093798,
          -83.565485,
          -82.450711,
          -84.055351,
          -81.54818,
          -81.822079,
          -81.557344,
          -83.013789,
          -82.684611,
          -83.981882,
          -84.395332,
          -83.384538,
          -81.54373,
          -83.02003,
          -84.591437,
          -83.033796,
          -83.455482,
          -82.017642,
          -82.233492,
          -83.447149,
          -82.187924,
          -81.008987,
          -84.067431,
          -83.397411,
          -82.228769,
          -84.363995,
          -84.050626,
          -84.149402,
          -82.933241,
          -82.526554,
          -82.935716,
          -80.872028,
          -82.356263,
          -84.579849,
          -82.776295,
          -82.652779,
          -84.289382,
          -82.590454,
          -81.914216,
          -82.630439,
          -82.976303,
          -81.531229,
          -84.575654,
          -83.258701,
          -84.021753,
          -82.822681,
          -81.646517,
          -81.542618,
          -83.318687,
          -83.459111,
          -81.767632,
          -82.803509,
          -84.730407,
          -82.830743,
          -81.210446,
          -81.543174,
          -82.416145,
          -82.602385,
          -83.929124,
          -84.295251,
          -84.151879,
          -81.137885,
          -83.189347,
          -82.353209,
          -83.672003,
          -82.905454,
          -84.612101,
          -82.575168,
          -82.537895,
          -82.178209,
          -82.887399,
          -81.432474,
          -83.779104,
          -84.018807,
          -84.360311,
          -84.013367,
          -80.791751,
          -84.084333,
          -81.535118,
          -83.66048,
          -82.192092,
          -82.080427,
          -83.709372,
          -82.589899,
          -82.517937,
          -82.655453,
          -81.166222,
          -83.873831,
          -83.376307,
          -83.516026,
          -81.720128,
          -82.830743,
          -80.748411,
          -82.074309,
          -81.160026,
          -84.095553,
          -82.830743,
          -82.582676,
          -81.451672,
          -80.794249,
          -83.664503,
          -81.683129,
          -82.606283,
          -82.303206,
          -84.655914,
          -81.850411,
          -84.438405,
          -82.381408,
          -81.583218,
          -83.331653,
          -80.674613,
          -81.380387,
          -82.215604,
          -82.938242,
          -82.208213,
          -83.441404,
          -81.35513,
          -83.218797,
          -81.425438,
          -82.822403,
          -81.093709,
          -82.817123,
          -82.95422,
          -80.978146,
          -83.92883,
          -83.271864,
          -83.253565,
          -83.55992,
          -84.009991,
          -82.632387,
          -83.432109,
          -83.374627,
          -82.043483,
          -82.928506,
          -82.830743,
          -82.830743,
          -82.830743,
          -81.156108,
          -80.634366,
          -81.451687,
          -81.064262,
          -83.644377,
          -82.447832,
          -81.169823,
          -82.607983,
          -82.710898,
          -82.491647,
          -82.830743,
          -81.954856,
          -80.7388,
          -84.139386,
          -83.830774,
          -82.961274,
          -82.789808,
          -83.926403,
          -83.901052,
          -82.144208,
          -82.698779,
          -82.046756,
          -82.389043,
          -80.921482,
          -83.78327,
          -82.231657,
          -82.943834,
          -82.65962,
          -83.938832,
          -82.288889,
          -82.855933,
          -81.91006,
          -82.752205,
          -84.696988,
          -82.890186,
          -81.850089,
          -83.175409,
          -82.854024,
          -84.700866,
          -82.822687,
          -81.516512,
          -81.908817,
          -83.425858,
          -81.236064,
          -84.283415,
          -84.638959,
          -82.335526,
          -80.799668,
          -82.345961,
          -81.858192,
          -82.012748,
          -81.491548,
          -81.646158,
          -81.789107,
          -81.181757,
          -84.291359,
          -82.520658,
          -83.901052,
          -82.959219,
          -82.975883,
          -81.200911,
          -83.084964,
          -83.667714,
          -82.718326,
          -83.475847,
          -81.455991,
          -84.373856,
          -81.722094,
          -81.18856,
          -81.393491,
          -81.391588,
          -82.333218,
          -83.891096,
          -82.212158,
          -81.443477,
          -84.621523,
          -82.242453,
          -84.695042,
          -81.707623,
          -83.029308,
          -81.706961,
          -81.188513,
          -83.176305,
          -81.714508,
          -84.519155,
          -80.766468,
          -84.170017,
          -83.007069,
          -82.991796,
          -83.23279,
          -84.023396,
          -81.507586,
          -81.557931,
          -82.257791,
          -81.544782,
          -81.425881,
          -82.516172,
          -82.859346,
          -83.59992,
          -84.290377,
          -84.280867,
          -82.926191,
          -82.515726,
          -84.177863,
          -81.957737,
          -84.179623,
          -81.73217,
          -81.7773,
          -84.375679,
          -80.779433,
          -84.80883,
          -84.67704,
          -83.675312,
          -82.308,
          -81.730197,
          -81.734381,
          -81.735508,
          -81.740503,
          -81.741612,
          -81.740524,
          -81.68601,
          -81.685664,
          -81.633025,
          -81.639702,
          -81.645087,
          -81.708972,
          -81.722034,
          -81.664039,
          -81.723497,
          -81.720668,
          -81.700097,
          -81.749627,
          -81.672481,
          -81.78159,
          -81.804763,
          -81.978855,
          -83.673998,
          -84.811784,
          -80.790808,
          -81.94755,
          -81.968706,
          -82.105824
         ],
         "marker": {
          "color": "#636EFA",
          "size": [
           512230467,
           126576842,
           105489392,
           93427244,
           78731053,
           75713513,
           72279433,
           48096120,
           44848943,
           44595079,
           37910078,
           24971313,
           21421199,
           19990689,
           19899029,
           19336169,
           19071969,
           18445716,
           18342814,
           15613007,
           14631134,
           13602744,
           12497663,
           10535386,
           10300630,
           9193653,
           8390358,
           8173537,
           7369069,
           6486900,
           6114238,
           5794165,
           5286714,
           4864645,
           4772093,
           4508142,
           4463008,
           4459147,
           3685857,
           3662832,
           3241954,
           3226269,
           2742925,
           2422156,
           2321475,
           2285452,
           2201698,
           2195992,
           1973470,
           1932020,
           1698518,
           1686125,
           1684591,
           1656073,
           1653369,
           1556572,
           1533642,
           1385108,
           1360114,
           1221992,
           1207677,
           1179809,
           1021498,
           1020668,
           1018680,
           1010065,
           992521,
           977750,
           977290,
           970401,
           965649,
           901604,
           874660,
           784172,
           726356,
           704189,
           703100,
           678671,
           601745,
           594066,
           562114,
           548962,
           519205,
           506226,
           503340,
           430873,
           428753,
           422621,
           418695,
           416700,
           413821,
           390225,
           375923,
           372287,
           361623,
           360966,
           360370,
           356710,
           326646,
           320650,
           311140,
           289764,
           278237,
           274507,
           261732,
           258676,
           252024,
           248185,
           244480,
           244367,
           240368,
           238652,
           221844,
           220626,
           217922,
           217324,
           208691,
           200867,
           198300,
           197255,
           196699,
           191743,
           175826,
           170755,
           159454,
           159325,
           157652,
           152680,
           142930,
           142295,
           141943,
           132937,
           130084,
           128442,
           127393,
           126486,
           125313,
           108855,
           107963,
           105694,
           105482,
           104227,
           103408,
           103338,
           100196,
           99166,
           94090,
           94077,
           93226,
           90359,
           84906,
           81253,
           77232,
           75445,
           68978,
           66288,
           66044,
           65228,
           64575,
           56535,
           54368,
           54098,
           52506,
           52235,
           52102,
           50929,
           50371,
           48984,
           46324,
           45373,
           43143,
           41646,
           40556,
           38517,
           36283,
           35561,
           35313,
           34123,
           33015,
           32626,
           32015,
           31111,
           30191,
           28701,
           27900,
           27220,
           26220,
           25567,
           25039,
           25034,
           23735,
           22734,
           21778,
           21110,
           21085,
           20381,
           19067,
           18587,
           17862,
           17568,
           17241,
           16816,
           15218,
           14884,
           14384,
           12457,
           12407,
           12308,
           11444,
           11125,
           10775,
           10629,
           10340,
           9225,
           8771,
           8343,
           8280,
           7617,
           7490,
           7316,
           6750,
           5990,
           5940,
           5928,
           5838,
           5680,
           5673,
           5277,
           5092,
           4931,
           4834,
           4620,
           4590,
           4510,
           4500,
           4082,
           3998,
           3888,
           3844,
           3820,
           3811,
           3802,
           3472,
           3415,
           3406,
           3405,
           3300,
           3133,
           3100,
           3012,
           3011,
           3006,
           3000,
           2862,
           2841,
           2828,
           2811,
           2742,
           2285,
           2275,
           2262,
           2247,
           2205,
           2169,
           2152,
           2114,
           2015,
           1966,
           1929,
           1913,
           1905,
           1888,
           1783,
           1750,
           1708,
           1700,
           1700,
           1556,
           1516,
           1400,
           1350,
           1350,
           1312,
           1217,
           1208,
           1109,
           1080,
           905,
           900,
           701,
           575,
           541,
           500,
           500,
           500,
           475,
           475,
           475,
           475,
           475,
           475,
           450,
           450,
           450,
           450,
           450,
           450,
           450,
           450,
           450,
           450,
           450,
           450,
           450,
           450,
           450,
           404,
           400,
           354,
           288,
           142,
           30,
           20
          ],
          "sizemode": "area",
          "sizeref": 1280576.1675,
          "symbol": "circle"
         },
         "mode": "markers",
         "name": "",
         "showlegend": false,
         "type": "scattergeo"
        }
       ],
       "layout": {
        "geo": {
         "center": {},
         "countrycolor": "Black",
         "domain": {
          "x": [
           0,
           1
          ],
          "y": [
           0,
           1
          ]
         },
         "fitbounds": "locations",
         "projection": {
          "rotation": {
           "lat": 40,
           "lon": -82
          },
          "type": "mercator"
         },
         "resolution": 50,
         "scope": "north america",
         "showcountries": true,
         "showsubunits": true,
         "subunitcolor": "Blue",
         "visible": true
        },
        "legend": {
         "itemsizing": "constant",
         "tracegroupgap": 0
        },
        "template": {
         "data": {
          "bar": [
           {
            "error_x": {
             "color": "#2a3f5f"
            },
            "error_y": {
             "color": "#2a3f5f"
            },
            "marker": {
             "line": {
              "color": "#E5ECF6",
              "width": 0.5
             },
             "pattern": {
              "fillmode": "overlay",
              "size": 10,
              "solidity": 0.2
             }
            },
            "type": "bar"
           }
          ],
          "barpolar": [
           {
            "marker": {
             "line": {
              "color": "#E5ECF6",
              "width": 0.5
             },
             "pattern": {
              "fillmode": "overlay",
              "size": 10,
              "solidity": 0.2
             }
            },
            "type": "barpolar"
           }
          ],
          "carpet": [
           {
            "aaxis": {
             "endlinecolor": "#2a3f5f",
             "gridcolor": "white",
             "linecolor": "white",
             "minorgridcolor": "white",
             "startlinecolor": "#2a3f5f"
            },
            "baxis": {
             "endlinecolor": "#2a3f5f",
             "gridcolor": "white",
             "linecolor": "white",
             "minorgridcolor": "white",
             "startlinecolor": "#2a3f5f"
            },
            "type": "carpet"
           }
          ],
          "choropleth": [
           {
            "colorbar": {
             "outlinewidth": 0,
             "ticks": ""
            },
            "type": "choropleth"
           }
          ],
          "contour": [
           {
            "colorbar": {
             "outlinewidth": 0,
             "ticks": ""
            },
            "colorscale": [
             [
              0,
              "#0d0887"
             ],
             [
              0.1111111111111111,
              "#46039f"
             ],
             [
              0.2222222222222222,
              "#7201a8"
             ],
             [
              0.3333333333333333,
              "#9c179e"
             ],
             [
              0.4444444444444444,
              "#bd3786"
             ],
             [
              0.5555555555555556,
              "#d8576b"
             ],
             [
              0.6666666666666666,
              "#ed7953"
             ],
             [
              0.7777777777777778,
              "#fb9f3a"
             ],
             [
              0.8888888888888888,
              "#fdca26"
             ],
             [
              1,
              "#f0f921"
             ]
            ],
            "type": "contour"
           }
          ],
          "contourcarpet": [
           {
            "colorbar": {
             "outlinewidth": 0,
             "ticks": ""
            },
            "type": "contourcarpet"
           }
          ],
          "heatmap": [
           {
            "colorbar": {
             "outlinewidth": 0,
             "ticks": ""
            },
            "colorscale": [
             [
              0,
              "#0d0887"
             ],
             [
              0.1111111111111111,
              "#46039f"
             ],
             [
              0.2222222222222222,
              "#7201a8"
             ],
             [
              0.3333333333333333,
              "#9c179e"
             ],
             [
              0.4444444444444444,
              "#bd3786"
             ],
             [
              0.5555555555555556,
              "#d8576b"
             ],
             [
              0.6666666666666666,
              "#ed7953"
             ],
             [
              0.7777777777777778,
              "#fb9f3a"
             ],
             [
              0.8888888888888888,
              "#fdca26"
             ],
             [
              1,
              "#f0f921"
             ]
            ],
            "type": "heatmap"
           }
          ],
          "heatmapgl": [
           {
            "colorbar": {
             "outlinewidth": 0,
             "ticks": ""
            },
            "colorscale": [
             [
              0,
              "#0d0887"
             ],
             [
              0.1111111111111111,
              "#46039f"
             ],
             [
              0.2222222222222222,
              "#7201a8"
             ],
             [
              0.3333333333333333,
              "#9c179e"
             ],
             [
              0.4444444444444444,
              "#bd3786"
             ],
             [
              0.5555555555555556,
              "#d8576b"
             ],
             [
              0.6666666666666666,
              "#ed7953"
             ],
             [
              0.7777777777777778,
              "#fb9f3a"
             ],
             [
              0.8888888888888888,
              "#fdca26"
             ],
             [
              1,
              "#f0f921"
             ]
            ],
            "type": "heatmapgl"
           }
          ],
          "histogram": [
           {
            "marker": {
             "pattern": {
              "fillmode": "overlay",
              "size": 10,
              "solidity": 0.2
             }
            },
            "type": "histogram"
           }
          ],
          "histogram2d": [
           {
            "colorbar": {
             "outlinewidth": 0,
             "ticks": ""
            },
            "colorscale": [
             [
              0,
              "#0d0887"
             ],
             [
              0.1111111111111111,
              "#46039f"
             ],
             [
              0.2222222222222222,
              "#7201a8"
             ],
             [
              0.3333333333333333,
              "#9c179e"
             ],
             [
              0.4444444444444444,
              "#bd3786"
             ],
             [
              0.5555555555555556,
              "#d8576b"
             ],
             [
              0.6666666666666666,
              "#ed7953"
             ],
             [
              0.7777777777777778,
              "#fb9f3a"
             ],
             [
              0.8888888888888888,
              "#fdca26"
             ],
             [
              1,
              "#f0f921"
             ]
            ],
            "type": "histogram2d"
           }
          ],
          "histogram2dcontour": [
           {
            "colorbar": {
             "outlinewidth": 0,
             "ticks": ""
            },
            "colorscale": [
             [
              0,
              "#0d0887"
             ],
             [
              0.1111111111111111,
              "#46039f"
             ],
             [
              0.2222222222222222,
              "#7201a8"
             ],
             [
              0.3333333333333333,
              "#9c179e"
             ],
             [
              0.4444444444444444,
              "#bd3786"
             ],
             [
              0.5555555555555556,
              "#d8576b"
             ],
             [
              0.6666666666666666,
              "#ed7953"
             ],
             [
              0.7777777777777778,
              "#fb9f3a"
             ],
             [
              0.8888888888888888,
              "#fdca26"
             ],
             [
              1,
              "#f0f921"
             ]
            ],
            "type": "histogram2dcontour"
           }
          ],
          "mesh3d": [
           {
            "colorbar": {
             "outlinewidth": 0,
             "ticks": ""
            },
            "type": "mesh3d"
           }
          ],
          "parcoords": [
           {
            "line": {
             "colorbar": {
              "outlinewidth": 0,
              "ticks": ""
             }
            },
            "type": "parcoords"
           }
          ],
          "pie": [
           {
            "automargin": true,
            "type": "pie"
           }
          ],
          "scatter": [
           {
            "fillpattern": {
             "fillmode": "overlay",
             "size": 10,
             "solidity": 0.2
            },
            "type": "scatter"
           }
          ],
          "scatter3d": [
           {
            "line": {
             "colorbar": {
              "outlinewidth": 0,
              "ticks": ""
             }
            },
            "marker": {
             "colorbar": {
              "outlinewidth": 0,
              "ticks": ""
             }
            },
            "type": "scatter3d"
           }
          ],
          "scattercarpet": [
           {
            "marker": {
             "colorbar": {
              "outlinewidth": 0,
              "ticks": ""
             }
            },
            "type": "scattercarpet"
           }
          ],
          "scattergeo": [
           {
            "marker": {
             "colorbar": {
              "outlinewidth": 0,
              "ticks": ""
             }
            },
            "type": "scattergeo"
           }
          ],
          "scattergl": [
           {
            "marker": {
             "colorbar": {
              "outlinewidth": 0,
              "ticks": ""
             }
            },
            "type": "scattergl"
           }
          ],
          "scattermapbox": [
           {
            "marker": {
             "colorbar": {
              "outlinewidth": 0,
              "ticks": ""
             }
            },
            "type": "scattermapbox"
           }
          ],
          "scatterpolar": [
           {
            "marker": {
             "colorbar": {
              "outlinewidth": 0,
              "ticks": ""
             }
            },
            "type": "scatterpolar"
           }
          ],
          "scatterpolargl": [
           {
            "marker": {
             "colorbar": {
              "outlinewidth": 0,
              "ticks": ""
             }
            },
            "type": "scatterpolargl"
           }
          ],
          "scatterternary": [
           {
            "marker": {
             "colorbar": {
              "outlinewidth": 0,
              "ticks": ""
             }
            },
            "type": "scatterternary"
           }
          ],
          "surface": [
           {
            "colorbar": {
             "outlinewidth": 0,
             "ticks": ""
            },
            "colorscale": [
             [
              0,
              "#0d0887"
             ],
             [
              0.1111111111111111,
              "#46039f"
             ],
             [
              0.2222222222222222,
              "#7201a8"
             ],
             [
              0.3333333333333333,
              "#9c179e"
             ],
             [
              0.4444444444444444,
              "#bd3786"
             ],
             [
              0.5555555555555556,
              "#d8576b"
             ],
             [
              0.6666666666666666,
              "#ed7953"
             ],
             [
              0.7777777777777778,
              "#fb9f3a"
             ],
             [
              0.8888888888888888,
              "#fdca26"
             ],
             [
              1,
              "#f0f921"
             ]
            ],
            "type": "surface"
           }
          ],
          "table": [
           {
            "cells": {
             "fill": {
              "color": "#EBF0F8"
             },
             "line": {
              "color": "white"
             }
            },
            "header": {
             "fill": {
              "color": "#C8D4E3"
             },
             "line": {
              "color": "white"
             }
            },
            "type": "table"
           }
          ]
         },
         "layout": {
          "annotationdefaults": {
           "arrowcolor": "#2a3f5f",
           "arrowhead": 0,
           "arrowwidth": 1
          },
          "autotypenumbers": "strict",
          "coloraxis": {
           "colorbar": {
            "outlinewidth": 0,
            "ticks": ""
           }
          },
          "colorscale": {
           "diverging": [
            [
             0,
             "#8e0152"
            ],
            [
             0.1,
             "#c51b7d"
            ],
            [
             0.2,
             "#de77ae"
            ],
            [
             0.3,
             "#f1b6da"
            ],
            [
             0.4,
             "#fde0ef"
            ],
            [
             0.5,
             "#f7f7f7"
            ],
            [
             0.6,
             "#e6f5d0"
            ],
            [
             0.7,
             "#b8e186"
            ],
            [
             0.8,
             "#7fbc41"
            ],
            [
             0.9,
             "#4d9221"
            ],
            [
             1,
             "#276419"
            ]
           ],
           "sequential": [
            [
             0,
             "#0d0887"
            ],
            [
             0.1111111111111111,
             "#46039f"
            ],
            [
             0.2222222222222222,
             "#7201a8"
            ],
            [
             0.3333333333333333,
             "#9c179e"
            ],
            [
             0.4444444444444444,
             "#bd3786"
            ],
            [
             0.5555555555555556,
             "#d8576b"
            ],
            [
             0.6666666666666666,
             "#ed7953"
            ],
            [
             0.7777777777777778,
             "#fb9f3a"
            ],
            [
             0.8888888888888888,
             "#fdca26"
            ],
            [
             1,
             "#f0f921"
            ]
           ],
           "sequentialminus": [
            [
             0,
             "#0d0887"
            ],
            [
             0.1111111111111111,
             "#46039f"
            ],
            [
             0.2222222222222222,
             "#7201a8"
            ],
            [
             0.3333333333333333,
             "#9c179e"
            ],
            [
             0.4444444444444444,
             "#bd3786"
            ],
            [
             0.5555555555555556,
             "#d8576b"
            ],
            [
             0.6666666666666666,
             "#ed7953"
            ],
            [
             0.7777777777777778,
             "#fb9f3a"
            ],
            [
             0.8888888888888888,
             "#fdca26"
            ],
            [
             1,
             "#f0f921"
            ]
           ]
          },
          "colorway": [
           "#636efa",
           "#EF553B",
           "#00cc96",
           "#ab63fa",
           "#FFA15A",
           "#19d3f3",
           "#FF6692",
           "#B6E880",
           "#FF97FF",
           "#FECB52"
          ],
          "font": {
           "color": "#2a3f5f"
          },
          "geo": {
           "bgcolor": "white",
           "lakecolor": "white",
           "landcolor": "#E5ECF6",
           "showlakes": true,
           "showland": true,
           "subunitcolor": "white"
          },
          "hoverlabel": {
           "align": "left"
          },
          "hovermode": "closest",
          "mapbox": {
           "style": "light"
          },
          "paper_bgcolor": "white",
          "plot_bgcolor": "#E5ECF6",
          "polar": {
           "angularaxis": {
            "gridcolor": "white",
            "linecolor": "white",
            "ticks": ""
           },
           "bgcolor": "#E5ECF6",
           "radialaxis": {
            "gridcolor": "white",
            "linecolor": "white",
            "ticks": ""
           }
          },
          "scene": {
           "xaxis": {
            "backgroundcolor": "#E5ECF6",
            "gridcolor": "white",
            "gridwidth": 2,
            "linecolor": "white",
            "showbackground": true,
            "ticks": "",
            "zerolinecolor": "white"
           },
           "yaxis": {
            "backgroundcolor": "#E5ECF6",
            "gridcolor": "white",
            "gridwidth": 2,
            "linecolor": "white",
            "showbackground": true,
            "ticks": "",
            "zerolinecolor": "white"
           },
           "zaxis": {
            "backgroundcolor": "#E5ECF6",
            "gridcolor": "white",
            "gridwidth": 2,
            "linecolor": "white",
            "showbackground": true,
            "ticks": "",
            "zerolinecolor": "white"
           }
          },
          "shapedefaults": {
           "line": {
            "color": "#2a3f5f"
           }
          },
          "ternary": {
           "aaxis": {
            "gridcolor": "white",
            "linecolor": "white",
            "ticks": ""
           },
           "baxis": {
            "gridcolor": "white",
            "linecolor": "white",
            "ticks": ""
           },
           "bgcolor": "#E5ECF6",
           "caxis": {
            "gridcolor": "white",
            "linecolor": "white",
            "ticks": ""
           }
          },
          "title": {
           "x": 0.05
          },
          "xaxis": {
           "automargin": true,
           "gridcolor": "white",
           "linecolor": "white",
           "ticks": "",
           "title": {
            "standoff": 15
           },
           "zerolinecolor": "white",
           "zerolinewidth": 2
          },
          "yaxis": {
           "automargin": true,
           "gridcolor": "white",
           "linecolor": "white",
           "ticks": "",
           "title": {
            "standoff": 15
           },
           "zerolinecolor": "white",
           "zerolinewidth": 2
          }
         }
        },
        "title": {
         "text": "Total Fish Stocking in Ohio (1970-2025)"
        }
       }
      }
     },
     "metadata": {},
     "output_type": "display_data"
    }
   ],
   "source": [
    "fish_by_lake = fish.groupby([\"location_name\", \"longitude\", \"latitude\"]).agg(total_stocked=('numberstocked', 'sum')).reset_index().sort_values(by=\"total_stocked\", ascending=False)\n",
    "fish_by_lake['total_percent'] = fish_by_lake['total_stocked'] / fish_by_lake['total_stocked'].sum() * 100\n",
    "print(fish_by_lake.head())\n",
    "fig = px.scatter_geo(fish_by_lake, lat='latitude', lon='longitude', scope='usa', size='total_stocked',\n",
    "                     hover_name='location_name',\n",
    "                     title=\"Total Fish Stocking in Ohio (1970-2025)\",\n",
    "                     color_discrete_sequence=px.colors.qualitative.Plotly)\n",
    "\n",
    "fig.update_geos(\n",
    "    visible=True, resolution=50, scope=\"north america\",\n",
    "    showcountries=True, countrycolor=\"Black\",\n",
    "    showsubunits=True, subunitcolor=\"Blue\",\n",
    "    fitbounds=\"locations\",\n",
    "    projection=dict(type=\"mercator\", rotation=dict(lat=40, lon=-82))  # Centered on Ohio\n",
    ")\n",
    "\n",
    "fig.show()\n"
   ]
  },
  {
   "cell_type": "markdown",
   "id": "0d3c1c0e",
   "metadata": {},
   "source": [
    "It's clear that Mosquito Lake in northern Ohio has had the most fish stocked since 1970 at over 0.5 billion! This constitutes 31% of all fish stocked in Ohio. Let's zoom in on Mosquito Lake."
   ]
  },
  {
   "cell_type": "code",
   "execution_count": 9,
   "id": "52b8bd47",
   "metadata": {},
   "outputs": [
    {
     "name": "stdout",
     "output_type": "stream",
     "text": [
      "         year  total_stocked\n",
      "count   55.00          55.00\n",
      "mean  1997.64     9313281.22\n",
      "std     16.43     4201294.96\n",
      "min   1970.00      223466.00\n",
      "25%   1983.50     7200000.00\n",
      "50%   1998.00     9375000.00\n",
      "75%   2011.50    11390949.50\n",
      "max   2025.00    20050000.00\n"
     ]
    },
    {
     "data": {
      "image/png": "[encoded data removed]",
      "text/plain": [
       "<Figure size 640x480 with 1 Axes>"
      ]
     },
     "metadata": {},
     "output_type": "display_data"
    }
   ],
   "source": [
    "fish_by_year = fish[fish[\"location_name\"] == 'MOSQUITO LAKE'].groupby([\"year\"]).agg(total_stocked=('numberstocked', 'sum')).reset_index()\n",
    "print(fish_by_year.describe())\n",
    "ax = sns.barplot(data=fish_by_year, x=\"year\", y=\"total_stocked\")\n",
    "ax.yaxis.set_major_formatter(ticker.FuncFormatter(lambda x, pos: f'{x/1000000:.0f}M'))\n",
    "\n",
    "# Reduce x-axis labels, showing only every other label\n",
    "plt.xticks(ticks=range(0, len(fish_by_year['year']), 2), \n",
    "               labels=fish_by_year['year'][::2], rotation=90)\n",
    "plt.xlabel(\"Year\")\n",
    "plt.ylabel(\"Total Stocked\")\n",
    "plt.title(\"Fish Stocked by Year in Mosquito Lake\")\n",
    "plt.show()"
   ]
  },
  {
   "cell_type": "markdown",
   "id": "6df6fd01",
   "metadata": {},
   "source": [
    "On average, 9 million fish per year are stocked in Mosquito Lake. There are a few low years around 1990 and the peak was in 1999 at 20M fish stocked."
   ]
  },
  {
   "cell_type": "code",
   "execution_count": 10,
   "id": "d00980d4",
   "metadata": {},
   "outputs": [
    {
     "data": {
      "text/html": [
       "<div>\n",
       "<style scoped>\n",
       "    .dataframe tbody tr th:only-of-type {\n",
       "        vertical-align: middle;\n",
       "    }\n",
       "\n",
       "    .dataframe tbody tr th {\n",
       "        vertical-align: top;\n",
       "    }\n",
       "\n",
       "    .dataframe thead th {\n",
       "        text-align: right;\n",
       "    }\n",
       "</style>\n",
       "<table border=\"1\" class=\"dataframe\">\n",
       "  <thead>\n",
       "    <tr style=\"text-align: right;\">\n",
       "      <th></th>\n",
       "      <th>species_name</th>\n",
       "      <th>sum</th>\n",
       "    </tr>\n",
       "  </thead>\n",
       "  <tbody>\n",
       "    <tr>\n",
       "      <th>0</th>\n",
       "      <td>Walleye</td>\n",
       "      <td>512200467</td>\n",
       "    </tr>\n",
       "    <tr>\n",
       "      <th>1</th>\n",
       "      <td>Channel Catfish</td>\n",
       "      <td>20000</td>\n",
       "    </tr>\n",
       "    <tr>\n",
       "      <th>2</th>\n",
       "      <td>Largemouth Bass</td>\n",
       "      <td>10000</td>\n",
       "    </tr>\n",
       "  </tbody>\n",
       "</table>\n",
       "</div>"
      ],
      "text/plain": [
       "      species_name        sum\n",
       "0          Walleye  512200467\n",
       "1  Channel Catfish      20000\n",
       "2  Largemouth Bass      10000"
      ]
     },
     "execution_count": 10,
     "metadata": {},
     "output_type": "execute_result"
    }
   ],
   "source": [
    "fish_total = fish[fish['location_name'] == 'MOSQUITO LAKE'].groupby(['species_name']).agg(sum=('numberstocked', 'sum')).sort_values(by='sum', ascending=False).reset_index()\n",
    "fish_total.head()\n"
   ]
  },
  {
   "cell_type": "markdown",
   "id": "915f3a91",
   "metadata": {},
   "source": [
    "Clearly walleye are the majority. Doing some research shows that walleye are not native to Mosquito Lake. The Ohio Department of Natural Resources (ODNR) have to stock walleye to keep the popuplation up.\n",
    "Only 10% of walleye in lake are born there naturally."
   ]
  },
  {
   "cell_type": "code",
   "execution_count": 15,
   "id": "f31b044b",
   "metadata": {},
   "outputs": [
    {
     "data": {
      "text/html": [
       "<div>\n",
       "<style scoped>\n",
       "    .dataframe tbody tr th:only-of-type {\n",
       "        vertical-align: middle;\n",
       "    }\n",
       "\n",
       "    .dataframe tbody tr th {\n",
       "        vertical-align: top;\n",
       "    }\n",
       "\n",
       "    .dataframe thead th {\n",
       "        text-align: right;\n",
       "    }\n",
       "</style>\n",
       "<table border=\"1\" class=\"dataframe\">\n",
       "  <thead>\n",
       "    <tr style=\"text-align: right;\">\n",
       "      <th></th>\n",
       "      <th>species_name</th>\n",
       "      <th>stagename</th>\n",
       "      <th>total_stocked</th>\n",
       "      <th>total_percent</th>\n",
       "    </tr>\n",
       "  </thead>\n",
       "  <tbody>\n",
       "    <tr>\n",
       "      <th>103</th>\n",
       "      <td>Walleye</td>\n",
       "      <td>Fry</td>\n",
       "      <td>811082091</td>\n",
       "      <td>47.26</td>\n",
       "    </tr>\n",
       "    <tr>\n",
       "      <th>79</th>\n",
       "      <td>Saugeye</td>\n",
       "      <td>Fry</td>\n",
       "      <td>298079656</td>\n",
       "      <td>17.37</td>\n",
       "    </tr>\n",
       "    <tr>\n",
       "      <th>78</th>\n",
       "      <td>Saugeye</td>\n",
       "      <td>Fingerlings</td>\n",
       "      <td>226387309</td>\n",
       "      <td>13.19</td>\n",
       "    </tr>\n",
       "    <tr>\n",
       "      <th>102</th>\n",
       "      <td>Walleye</td>\n",
       "      <td>Fingerlings</td>\n",
       "      <td>98309551</td>\n",
       "      <td>5.73</td>\n",
       "    </tr>\n",
       "    <tr>\n",
       "      <th>109</th>\n",
       "      <td>Yellow Perch</td>\n",
       "      <td>Fry</td>\n",
       "      <td>82717267</td>\n",
       "      <td>4.82</td>\n",
       "    </tr>\n",
       "    <tr>\n",
       "      <th>46</th>\n",
       "      <td>Hybrid-Striped Bass</td>\n",
       "      <td>Fry</td>\n",
       "      <td>43971000</td>\n",
       "      <td>2.56</td>\n",
       "    </tr>\n",
       "    <tr>\n",
       "      <th>108</th>\n",
       "      <td>Yellow Perch</td>\n",
       "      <td>Fingerlings</td>\n",
       "      <td>29219448</td>\n",
       "      <td>1.70</td>\n",
       "    </tr>\n",
       "    <tr>\n",
       "      <th>45</th>\n",
       "      <td>Hybrid-Striped Bass</td>\n",
       "      <td>Fingerlings</td>\n",
       "      <td>16420571</td>\n",
       "      <td>0.96</td>\n",
       "    </tr>\n",
       "    <tr>\n",
       "      <th>93</th>\n",
       "      <td>Striped Bass (male) x White bass (female)</td>\n",
       "      <td>Fry</td>\n",
       "      <td>14466000</td>\n",
       "      <td>0.84</td>\n",
       "    </tr>\n",
       "    <tr>\n",
       "      <th>70</th>\n",
       "      <td>Rainbow Trout</td>\n",
       "      <td>Yearling</td>\n",
       "      <td>9876570</td>\n",
       "      <td>0.58</td>\n",
       "    </tr>\n",
       "  </tbody>\n",
       "</table>\n",
       "</div>"
      ],
      "text/plain": [
       "                                  species_name    stagename  total_stocked  \\\n",
       "103                                    Walleye          Fry      811082091   \n",
       "79                                     Saugeye          Fry      298079656   \n",
       "78                                     Saugeye  Fingerlings      226387309   \n",
       "102                                    Walleye  Fingerlings       98309551   \n",
       "109                               Yellow Perch          Fry       82717267   \n",
       "46                         Hybrid-Striped Bass          Fry       43971000   \n",
       "108                               Yellow Perch  Fingerlings       29219448   \n",
       "45                         Hybrid-Striped Bass  Fingerlings       16420571   \n",
       "93   Striped Bass (male) x White bass (female)          Fry       14466000   \n",
       "70                               Rainbow Trout     Yearling        9876570   \n",
       "\n",
       "     total_percent  \n",
       "103          47.26  \n",
       "79           17.37  \n",
       "78           13.19  \n",
       "102           5.73  \n",
       "109           4.82  \n",
       "46            2.56  \n",
       "108           1.70  \n",
       "45            0.96  \n",
       "93            0.84  \n",
       "70            0.58  "
      ]
     },
     "execution_count": 15,
     "metadata": {},
     "output_type": "execute_result"
    }
   ],
   "source": [
    "fish_by_species = fish.groupby([\"species_name\",  \"stagename\"]).agg(total_stocked=('numberstocked', 'sum')).reset_index()\n",
    "fish_by_species = fish_by_species.sort_values(by=\"total_stocked\", ascending=False)\n",
    "fish_by_species['total_percent'] = fish_by_species['total_stocked'] / fish_by_species['total_stocked'].sum() * 100\n",
    "fish_by_species.head(10)"
   ]
  },
  {
   "cell_type": "markdown",
   "id": "a5861475",
   "metadata": {},
   "source": [
    "We see ODNR mostly stock walleye fry followed by saugeye (a walleye-sauger hybrid) fry and fingerlings. Around 80% of all fish stocked are either walleye or saugeye."
   ]
  }
 ],
 "metadata": {
  "kernelspec": {
   "display_name": "base",
   "language": "python",
   "name": "python3"
  },
  "language_info": {
   "codemirror_mode": {
    "name": "ipython",
    "version": 3
   },
   "file_extension": ".py",
   "mimetype": "text/x-python",
   "name": "python",
   "nbconvert_exporter": "python",
   "pygments_lexer": "ipython3",
   "version": "3.12.7"
  }
 },
 "nbformat": 4,
 "nbformat_minor": 5
}
